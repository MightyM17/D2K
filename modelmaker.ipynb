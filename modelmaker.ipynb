{
 "cells": [
  {
   "cell_type": "code",
   "execution_count": 1,
   "metadata": {},
   "outputs": [],
   "source": [
    "import pandas as pd\n",
    "from sklearn.feature_extraction.text import TfidfVectorizer\n",
    "from sklearn.metrics.pairwise import cosine_similarity\n"
   ]
  },
  {
   "cell_type": "code",
   "execution_count": 2,
   "metadata": {},
   "outputs": [],
   "source": [
    "\n",
    "# Load the data from a CSV file\n",
    "data = pd.read_csv('quotes_database.csv')"
   ]
  },
  {
   "cell_type": "code",
   "execution_count": 4,
   "metadata": {},
   "outputs": [],
   "source": [
    "\n",
    "# Create a TF-IDF vectorizer to convert quotes into numerical vectors\n",
    "tfidf_vectorizer = TfidfVectorizer()\n",
    "\n",
    "# Convert the quotes into TF-IDF vectors\n",
    "tfidf_matrix = tfidf_vectorizer.fit_transform(data['Quotes'])\n",
    "\n",
    "# Compute the cosine similarity between all pairs of quotes\n",
    "cosine_sim = cosine_similarity(tfidf_matrix)"
   ]
  },
  {
   "cell_type": "code",
   "execution_count": 5,
   "metadata": {},
   "outputs": [],
   "source": [
    "# Define a function that takes a quote and category as input and returns the top 5 most similar quotes\n",
    "def recommend_quotes(quote, category):\n",
    "    # Find the index of the input quote in the data\n",
    "    quote_index = data[data['Quotes'] == quote].index[0]\n",
    "    \n",
    "    # Find all quotes that belong to the same category as the input quote\n",
    "    same_category_quotes = data[data['Category'] == category]\n",
    "    \n",
    "    # Compute the cosine similarity between the input quote and all quotes in the same category\n",
    "    cosine_scores = cosine_sim[quote_index][same_category_quotes.index]\n",
    "    \n",
    "    # Sort the quotes by their cosine similarity to the input quote\n",
    "    sorted_quotes = same_category_quotes.loc[same_category_quotes.index[cosine_scores.argsort()[::-1]]]\n",
    "    \n",
    "    # Return the top 5 most similar quotes\n",
    "    return sorted_quotes['Quotes'].head(5)\n"
   ]
  },
  {
   "cell_type": "code",
   "execution_count": 6,
   "metadata": {},
   "outputs": [
    {
     "ename": "IndexError",
     "evalue": "index 0 is out of bounds for axis 0 with size 0",
     "output_type": "error",
     "traceback": [
      "\u001b[1;31m---------------------------------------------------------------------------\u001b[0m",
      "\u001b[1;31mIndexError\u001b[0m                                Traceback (most recent call last)",
      "\u001b[1;32md:\\pyth\\python\\streamlit_test\\modelmaker.ipynb Cell 5\u001b[0m in \u001b[0;36m<module>\u001b[1;34m\u001b[0m\n\u001b[0;32m      <a href='vscode-notebook-cell:/d%3A/pyth/python/streamlit_test/modelmaker.ipynb#W4sZmlsZQ%3D%3D?line=0'>1</a>\u001b[0m \u001b[39m# Example usage:\u001b[39;00m\n\u001b[1;32m----> <a href='vscode-notebook-cell:/d%3A/pyth/python/streamlit_test/modelmaker.ipynb#W4sZmlsZQ%3D%3D?line=1'>2</a>\u001b[0m recommended_quotes \u001b[39m=\u001b[39m recommend_quotes(\u001b[39m\"\u001b[39;49m\u001b[39mThe greatest glory in living lies not in never falling, but in rising every time we fall.\u001b[39;49m\u001b[39m\"\u001b[39;49m, \u001b[39m\"\u001b[39;49m\u001b[39minspirational\u001b[39;49m\u001b[39m\"\u001b[39;49m)\n\u001b[0;32m      <a href='vscode-notebook-cell:/d%3A/pyth/python/streamlit_test/modelmaker.ipynb#W4sZmlsZQ%3D%3D?line=2'>3</a>\u001b[0m \u001b[39mprint\u001b[39m(recommended_quotes)\n",
      "\u001b[1;32md:\\pyth\\python\\streamlit_test\\modelmaker.ipynb Cell 5\u001b[0m in \u001b[0;36mrecommend_quotes\u001b[1;34m(quote, category)\u001b[0m\n\u001b[0;32m      <a href='vscode-notebook-cell:/d%3A/pyth/python/streamlit_test/modelmaker.ipynb#W4sZmlsZQ%3D%3D?line=1'>2</a>\u001b[0m \u001b[39mdef\u001b[39;00m \u001b[39mrecommend_quotes\u001b[39m(quote, category):\n\u001b[0;32m      <a href='vscode-notebook-cell:/d%3A/pyth/python/streamlit_test/modelmaker.ipynb#W4sZmlsZQ%3D%3D?line=2'>3</a>\u001b[0m     \u001b[39m# Find the index of the input quote in the data\u001b[39;00m\n\u001b[1;32m----> <a href='vscode-notebook-cell:/d%3A/pyth/python/streamlit_test/modelmaker.ipynb#W4sZmlsZQ%3D%3D?line=3'>4</a>\u001b[0m     quote_index \u001b[39m=\u001b[39m data[data[\u001b[39m'\u001b[39;49m\u001b[39mQuotes\u001b[39;49m\u001b[39m'\u001b[39;49m] \u001b[39m==\u001b[39;49m quote]\u001b[39m.\u001b[39;49mindex[\u001b[39m0\u001b[39;49m]\n\u001b[0;32m      <a href='vscode-notebook-cell:/d%3A/pyth/python/streamlit_test/modelmaker.ipynb#W4sZmlsZQ%3D%3D?line=5'>6</a>\u001b[0m     \u001b[39m# Find all quotes that belong to the same category as the input quote\u001b[39;00m\n\u001b[0;32m      <a href='vscode-notebook-cell:/d%3A/pyth/python/streamlit_test/modelmaker.ipynb#W4sZmlsZQ%3D%3D?line=6'>7</a>\u001b[0m     same_category_quotes \u001b[39m=\u001b[39m data[data[\u001b[39m'\u001b[39m\u001b[39mCategory\u001b[39m\u001b[39m'\u001b[39m] \u001b[39m==\u001b[39m category]\n",
      "File \u001b[1;32mc:\\Users\\johan\\AppData\\Local\\Programs\\Python\\Python310\\lib\\site-packages\\pandas\\core\\indexes\\base.py:5358\u001b[0m, in \u001b[0;36mIndex.__getitem__\u001b[1;34m(self, key)\u001b[0m\n\u001b[0;32m   5355\u001b[0m \u001b[39mif\u001b[39;00m is_integer(key) \u001b[39mor\u001b[39;00m is_float(key):\n\u001b[0;32m   5356\u001b[0m     \u001b[39m# GH#44051 exclude bool, which would return a 2d ndarray\u001b[39;00m\n\u001b[0;32m   5357\u001b[0m     key \u001b[39m=\u001b[39m com\u001b[39m.\u001b[39mcast_scalar_indexer(key, warn_float\u001b[39m=\u001b[39m\u001b[39mTrue\u001b[39;00m)\n\u001b[1;32m-> 5358\u001b[0m     \u001b[39mreturn\u001b[39;00m getitem(key)\n\u001b[0;32m   5360\u001b[0m \u001b[39mif\u001b[39;00m \u001b[39misinstance\u001b[39m(key, \u001b[39mslice\u001b[39m):\n\u001b[0;32m   5361\u001b[0m     \u001b[39m# This case is separated from the conditional above to avoid\u001b[39;00m\n\u001b[0;32m   5362\u001b[0m     \u001b[39m# pessimization com.is_bool_indexer and ndim checks.\u001b[39;00m\n\u001b[0;32m   5363\u001b[0m     result \u001b[39m=\u001b[39m getitem(key)\n",
      "\u001b[1;31mIndexError\u001b[0m: index 0 is out of bounds for axis 0 with size 0"
     ]
    }
   ],
   "source": [
    "# Example usage:\n",
    "recommended_quotes = recommend_quotes(\"The greatest glory in living lies not in never falling, but in rising every time we fall.\", \"inspirational\")\n",
    "print(recommended_quotes)"
   ]
  }
 ],
 "metadata": {
  "kernelspec": {
   "display_name": "Python 3",
   "language": "python",
   "name": "python3"
  },
  "language_info": {
   "codemirror_mode": {
    "name": "ipython",
    "version": 3
   },
   "file_extension": ".py",
   "mimetype": "text/x-python",
   "name": "python",
   "nbconvert_exporter": "python",
   "pygments_lexer": "ipython3",
   "version": "3.10.7"
  },
  "orig_nbformat": 4,
  "vscode": {
   "interpreter": {
    "hash": "7d3132c63595c5bd9835a7d3d4e82d2178644ed42d28c98d306a1f36334182b0"
   }
  }
 },
 "nbformat": 4,
 "nbformat_minor": 2
}
